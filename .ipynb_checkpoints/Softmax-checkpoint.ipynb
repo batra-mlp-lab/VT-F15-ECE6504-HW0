{
 "metadata": {
  "name": "",
  "signature": "sha256:a8900a4edc45f8485b3777d66dcf9fb82eadedcbff87eb58c56a9385721c2f07"
 },
 "nbformat": 3,
 "nbformat_minor": 0,
 "worksheets": [
  {
   "cells": [
    {
     "cell_type": "heading",
     "level": 1,
     "metadata": {},
     "source": [
      "Softmax Classifier"
     ]
    },
    {
     "cell_type": "raw",
     "metadata": {},
     "source": [
      "This exercise guides you through the process of classifying images using Logistic Regression/Softmax Classifier. As part of this you will:\n",
      "-Implement a fully vectorized loss function and for the Softmax Classifier\n",
      "-Calculate the analytical gradient using vectorized code\n",
      "-Use Validation to tune the hyper-parameters\n",
      "-perform Stochastic Gradient Descent (SGD) to minimize the loss function\n",
      "-Visualize the learned weights"
     ]
    },
    {
     "cell_type": "code",
     "collapsed": false,
     "input": [
      "# start-up code! \n",
      "import random\n",
      "import numpy as np\n",
      "from f15ece6504.get_cifar10 import load_CIFAR10\n",
      "%matplotlib inline\n",
      "plt.rcParams['figure.figsize'] = (10.0, 8.0) # set default size of plots\n",
      "plt.rcParams['image.interpolation'] = 'nearest'\n",
      "plt.rcParams['image.cmap'] = 'gray'\n",
      "\n",
      "# for auto-reloading extenrnal modules\n",
      "# see http://stackoverflow.com/questions/1907993/autoreload-of-modules-in-ipython\n",
      "%load_ext autoreload\n",
      "%autoreload 2"
     ],
     "language": "python",
     "metadata": {},
     "outputs": []
    },
    {
     "cell_type": "code",
     "collapsed": false,
     "input": [
      "# load the data - just like we did before with SVM\n",
      "# Subsample the data for more efficient code execution in this exercise.\n",
      "num_training = 49000\n",
      "num_validation = 1000\n",
      "num_test = 1000\n",
      "\n",
      "# Our validation set will be num_validation points from the original\n",
      "# training set.\n",
      "mask = range(num_training, num_training + num_validation)\n",
      "X_val = X_train[mask]\n",
      "y_val = y_train[mask]\n",
      "\n",
      "# Our training set will be the first num_train points from the original\n",
      "# training set.\n",
      "mask = range(num_training)\n",
      "X_train = X_train[mask]\n",
      "y_train = y_train[mask]\n",
      "\n",
      "# We use the first num_test points of the original test set as our\n",
      "# test set.\n",
      "mask = range(num_test)\n",
      "X_test = X_test[mask]\n",
      "y_test = y_test[mask]\n",
      "\n",
      "print 'Train data shape: ', X_train.shape\n",
      "print 'Train labels shape: ', y_train.shape\n",
      "print 'Validation data shape: ', X_val.shape\n",
      "print 'Validation labels shape: ', y_val.shape\n",
      "print 'Test data shape: ', X_test.shape\n",
      "print 'Test labels shape: ', y_test.shape"
     ],
     "language": "python",
     "metadata": {},
     "outputs": []
    },
    {
     "cell_type": "code",
     "collapsed": false,
     "input": [
      "# implemention of the naive softmax loss function and gradient with nested loops is provided for you\n",
      "\n",
      "from f15ece6504.classifiers.softmax import softmax_loss_naive\n",
      "import time\n",
      "\n",
      "# Generate a random softmax weight matrix and use it to compute the loss.\n",
      "W = np.random.randn(10, 3073) * 0.0001\n",
      "loss, grad = softmax_loss_naive(W, X_train, y_train, 0.0)\n",
      "\n",
      "# As a rough sanity check, our loss should be something close to -log(0.1).\n",
      "print 'loss: %f' % loss\n",
      "print 'sanity check: %f' % (-np.log(0.1))"
     ],
     "language": "python",
     "metadata": {},
     "outputs": []
    },
    {
     "cell_type": "code",
     "collapsed": false,
     "input": [
      "# Now, implement a vectorized version in softmax_loss_vectorized.\n",
      "# The two versions should compute the same results, but the vectorized version should be\n",
      "# much faster. \n",
      "tic = time.time()\n",
      "loss_naive, grad_naive = softmax_loss_naive(W, X_train, y_train, 0.00001)\n",
      "toc = time.time()\n",
      "print 'naive loss: %e computed in %fs' % (loss_naive, toc - tic)\n",
      "\n",
      "from f15ece6504.classifiers.softmax import softmax_loss_vectorized\n",
      "tic = time.time()\n",
      "loss_vectorized, grad_vectorized = softmax_loss_vectorized(W, X_train, y_train, 0.00001)\n",
      "toc = time.time()\n",
      "print 'vectorized loss: %e computed in %fs' % (loss_vectorized, toc - tic)\n",
      "\n",
      "# As we did for the SVM, we use the Frobenius norm to compare the two versions\n",
      "# of the gradient.\n",
      "grad_difference = np.linalg.norm(grad_naive - grad_vectorized, ord='fro')\n",
      "print 'Loss difference: %f' % np.abs(loss_naive - loss_vectorized)\n",
      "print 'Gradient difference: %f' % grad_difference\n"
     ],
     "language": "python",
     "metadata": {},
     "outputs": []
    },
    {
     "cell_type": "code",
     "collapsed": false,
     "input": [
      "# Now that efficient implementations to calculate loss function and gradient of the softmax are ready,\n",
      "# use it to train the classifier on the cifar-10 data\n",
      "from f15ece6504.classifiers import Softmax\n",
      "classifier = Softmax()\n",
      "loss_hist = Softmax.train(X_train, y_train, learning_rate=1e-3, reg=1e-5, num_iters=100,batch_size=200, verbose=False)\n",
      "# plot loss vs. iterations as before\n",
      "plt.plot(loss_hist)\n",
      "plt.xlabel('Iteration number')\n",
      "plt.ylabel('Loss value')"
     ],
     "language": "python",
     "metadata": {},
     "outputs": []
    },
    {
     "cell_type": "code",
     "collapsed": false,
     "input": [
      "# evaluate on test set\n",
      "# Evaluate the best svm on test set\n",
      "y_test_pred = classifier.predict(X_test)\n",
      "test_accuracy = np.mean(y_test == y_test_pred)\n",
      "print 'softmax on raw pixels final test set accuracy: %f' % (test_accuracy, )"
     ],
     "language": "python",
     "metadata": {},
     "outputs": []
    },
    {
     "cell_type": "markdown",
     "metadata": {},
     "source": [
      "Before visualizing the weights learned, tune the model with spearmint! Modify and re-train the Softmax classifier in the previous cell before you proceed. You can modify the file used to tune the SVM and modify it by calling the Softmax classifier. "
     ]
    },
    {
     "cell_type": "code",
     "collapsed": false,
     "input": [
      "# Visualize the learned weights for each class\n",
      "w = classifier.W[:,:-1] # strip out the bias\n",
      "w = w.reshape(10, 32, 32, 3)\n",
      "\n",
      "w_min, w_max = np.min(w), np.max(w)\n",
      "\n",
      "classes = ['plane', 'car', 'bird', 'cat', 'deer', 'dog', 'frog', 'horse', 'ship', 'truck']\n",
      "for i in xrange(10):\n",
      "  plt.subplot(2, 5, i + 1)\n",
      "  \n",
      "  # Rescale the weights to be between 0 and 255\n",
      "  wimg = 255.0 * (w[i].squeeze() - w_min) / (w_max - w_min)\n",
      "  plt.imshow(wimg.astype('uint8'))\n",
      "  plt.axis('off')\n",
      "  plt.title(classes[i])"
     ],
     "language": "python",
     "metadata": {},
     "outputs": []
    }
   ],
   "metadata": {}
  }
 ]
}